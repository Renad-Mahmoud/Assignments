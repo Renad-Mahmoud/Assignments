{
 "cells": [
  {
   "cell_type": "markdown",
   "metadata": {},
   "source": [
    "## Python Task 3"
   ]
  },
  {
   "cell_type": "markdown",
   "metadata": {},
   "source": [
    "### Question: Count Vowels in a String\n",
    "\n",
    "**Description:** Write a function named count_vowels that takes a string as an argument and returns the count of vowels (a, e, i, o, u) in the string. \n",
    "\n",
    "The function should be case-insensitive, counting both uppercase and lowercase vowels.\n"
   ]
  },
  {
   "cell_type": "code",
   "execution_count": null,
   "metadata": {},
   "outputs": [],
   "source": [
    "'''\n",
    "# Example Input:\n",
    "text = \"Hello World\"\n",
    "# Expected Output:\n",
    "3\n",
    "'''\n"
   ]
  },
  {
   "cell_type": "code",
   "execution_count": 20,
   "metadata": {},
   "outputs": [
    {
     "name": "stdout",
     "output_type": "stream",
     "text": [
      "number of vowels is 3\n"
     ]
    }
   ],
   "source": [
    "def count_vowels(X):\n",
    "    text=input('enter text :')\n",
    "    count=0\n",
    "    for i in (text):\n",
    "        if i in 'aeiouAEIOU':\n",
    "             count+=1\n",
    "    print('number of vowels is',count)\n",
    "\n",
    "count_vowels(x)"
   ]
  },
  {
   "cell_type": "markdown",
   "metadata": {},
   "source": [
    "### Question: Find the Maximum Value in a List Using a Function\n",
    "Description: Write a function named find_max that takes a list of integers as an argument and returns the maximum value in the list. \n",
    "\n",
    "Do not use Python’s built-in max() function. The function should handle cases where the list is empty by returning None.\n"
   ]
  },
  {
   "cell_type": "code",
   "execution_count": null,
   "metadata": {},
   "outputs": [],
   "source": [
    "'''\n",
    "# Example Input:\n",
    "numbers = [3, 5, 2, 8, 1]\n",
    "# Expected Output:\n",
    "8\n",
    "'''"
   ]
  },
  {
   "cell_type": "code",
   "execution_count": 19,
   "metadata": {},
   "outputs": [
    {
     "name": "stdout",
     "output_type": "stream",
     "text": [
      "add numbers and to stop enter stop\n",
      "[3, 5, 2, 8, 1]\n"
     ]
    },
    {
     "data": {
      "text/plain": [
       "'Maximum number in the list is: 8'"
      ]
     },
     "execution_count": 19,
     "metadata": {},
     "output_type": "execute_result"
    }
   ],
   "source": [
    "def find_max(x):\n",
    "    list=[]\n",
    "    print('add numbers and to stop enter stop')\n",
    "    while True:\n",
    "        nums=input('enter number :')\n",
    "        if nums== 'stop':\n",
    "            break\n",
    "        try:\n",
    "            num=int(nums)\n",
    "            list.append(num)\n",
    "        except ValueError:\n",
    "            print('invalid input , enter correct numbers')\n",
    "    print (list)\n",
    "    max=list[0]\n",
    "    for i in list :\n",
    "        if i>max:\n",
    "            max_num=i\n",
    "    return f\"Maximum number in the list is: {max_num}\"\n",
    "\n",
    "find_max(x)\n",
    "    \n"
   ]
  }
 ],
 "metadata": {
  "kernelspec": {
   "display_name": "Python 3",
   "language": "python",
   "name": "python3"
  },
  "language_info": {
   "codemirror_mode": {
    "name": "ipython",
    "version": 3
   },
   "file_extension": ".py",
   "mimetype": "text/x-python",
   "name": "python",
   "nbconvert_exporter": "python",
   "pygments_lexer": "ipython3",
   "version": "3.12.7"
  }
 },
 "nbformat": 4,
 "nbformat_minor": 4
}
