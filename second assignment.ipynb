{
 "cells": [
  {
   "cell_type": "markdown",
   "id": "d4db0e9d-2fd3-4b5a-930b-9cddd55bd450",
   "metadata": {},
   "source": [
    "### Mini-project:  Create a Calculator"
   ]
  },
  {
   "cell_type": "code",
   "execution_count": 11,
   "id": "de939983-0a27-4c25-93c9-df758944c66e",
   "metadata": {},
   "outputs": [
    {
     "name": "stdout",
     "output_type": "stream",
     "text": [
      "commands are : add , sub , mult , div\n"
     ]
    },
    {
     "name": "stdin",
     "output_type": "stream",
     "text": [
      "enter a command : ty\n"
     ]
    },
    {
     "name": "stdout",
     "output_type": "stream",
     "text": [
      "not valid , enter right command\n"
     ]
    },
    {
     "name": "stdin",
     "output_type": "stream",
     "text": [
      "enter a command : ADD\n",
      "enter first number 3\n",
      "enter secomd number 6\n"
     ]
    },
    {
     "name": "stdout",
     "output_type": "stream",
     "text": [
      "the sum of the two numbers is : 9\n"
     ]
    },
    {
     "name": "stdin",
     "output_type": "stream",
     "text": [
      "enter new command or stop to exit  mult\n",
      "enter first number 9\n",
      "enter secomd number 10\n"
     ]
    },
    {
     "name": "stdout",
     "output_type": "stream",
     "text": [
      "the multiply of the two numbers is : 90\n"
     ]
    },
    {
     "name": "stdin",
     "output_type": "stream",
     "text": [
      "enter new command or stop to exit  stop\n"
     ]
    },
    {
     "name": "stdout",
     "output_type": "stream",
     "text": [
      "Goodbye\n"
     ]
    }
   ],
   "source": [
    "\n",
    "def add(x1, x2):\n",
    "    return x1 + x2\n",
    "\n",
    "def sub(x1, x2):\n",
    "    return x1 - x2\n",
    "\n",
    "def mult(x1, x2):\n",
    "    return x1 * x2\n",
    "\n",
    "def div(x1, x2):\n",
    "    if x2 == 0:\n",
    "        return \"Error: Division by zero!\"\n",
    "    return x1 / x2\n",
    "    \n",
    "def calculator():\n",
    "    \n",
    "    print (\"commands are : add , sub , mult , div\" )\n",
    "    cam=input('enter a command :').strip().lower()\n",
    "    while cam not in  ['add' , 'sub' , 'mult' , 'div']:\n",
    "        print('not valid , enter right command')\n",
    "        cam=input('enter a command :').strip().lower()\n",
    "    while cam in  ['add' , 'sub' , 'mult' , 'div']:\n",
    "        x1=int(input('enter first number'))\n",
    "        x2=int(input('enter secomd number'))\n",
    "        if cam =='add':\n",
    "            print ('the sum of the two numbers is :',add(x1,x2))\n",
    "        elif cam == 'sub':\n",
    "            print ('the subtract of the two numbers is :',sub(x1,x2))\n",
    "        elif cam == 'mult':\n",
    "            print ('the multiply of the two numbers is :',mult(x1,x2))\n",
    "        elif cam == 'div':\n",
    "            print ('the divided of the two numbers is :',div(x1,x2))\n",
    "        cam = input('enter new command or stop to exit ')\n",
    "        if cam =='stop':\n",
    "            print('Goodbye')\n",
    "            break\n",
    "        while cam not in  ['add' , 'sub' , 'mult' , 'div']:\n",
    "            print('not valid , enter right command')\n",
    "            cam=input('enter a command :').strip().lower()\n",
    "            \n",
    "if __name__ == \"__main__\":\n",
    "    calculator()"
   ]
  },
  {
   "cell_type": "code",
   "execution_count": null,
   "id": "2f394933-28b7-4934-aa3d-cfaa2ca295dc",
   "metadata": {},
   "outputs": [],
   "source": []
  }
 ],
 "metadata": {
  "kernelspec": {
   "display_name": "Python 3 (ipykernel)",
   "language": "python",
   "name": "python3"
  },
  "language_info": {
   "codemirror_mode": {
    "name": "ipython",
    "version": 3
   },
   "file_extension": ".py",
   "mimetype": "text/x-python",
   "name": "python",
   "nbconvert_exporter": "python",
   "pygments_lexer": "ipython3",
   "version": "3.12.4"
  }
 },
 "nbformat": 4,
 "nbformat_minor": 5
}
